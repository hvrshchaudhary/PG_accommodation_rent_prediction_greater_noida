{
 "cells": [
  {
   "cell_type": "code",
   "execution_count": 1,
   "id": "dfca33a1",
   "metadata": {},
   "outputs": [],
   "source": [
    "import requests\n",
    "import pandas as pd\n",
    "url = \"https://www.nobroker.in/api/v3/multi/property/PG/filter?pageNo={}&searchParam=W3sibGF0IjoyOC40NzIzNzE0LCJsb24iOjc3LjUxNDAxODEsInBsYWNlSWQiOiJDaElKVlZVbGIzN3FERGtSTFpKX0M2T1dLSlkiLCJwbGFjZU5hbWUiOiJBbHBoYSAxIiwic2hvd01hcCI6ZmFsc2V9XQ==&city=greater%20noida\"\n",
    "page = 1\n",
    "\n",
    "rules = []\n",
    "roomTypes = []\n",
    "rooms = []\n",
    "amenities = []\n",
    "locality = []\n",
    "deposit = []"
   ]
  },
  {
   "cell_type": "code",
   "execution_count": 2,
   "id": "ee188e0b",
   "metadata": {},
   "outputs": [],
   "source": [
    "while True:\n",
    "    r=requests.get(url.format(page))\n",
    "    data = r.json()\n",
    "    if len(data['data']) == 0:\n",
    "        break\n",
    "    else:\n",
    "        #Get room Types\n",
    "        for i in data['data']:\n",
    "            roomTypes.append(i['roomTypes'])\n",
    "        page = page+1"
   ]
  },
  {
   "cell_type": "code",
   "execution_count": 3,
   "id": "27c757d7",
   "metadata": {},
   "outputs": [],
   "source": [
    "# print(len(deposit))"
   ]
  },
  {
   "cell_type": "code",
   "execution_count": 4,
   "id": "90be3322",
   "metadata": {},
   "outputs": [],
   "source": [
    "import json"
   ]
  },
  {
   "cell_type": "code",
   "execution_count": 5,
   "id": "972ad341",
   "metadata": {},
   "outputs": [
    {
     "name": "stdout",
     "output_type": "stream",
     "text": [
      "Initial list : \n",
      "[[{'amenities': '{\"CUPBOARD\":true,\"TV\":false,\"BEDDING\":true,\"GEASER\":true,\"AC\":true,\"AB\":true}', 'attachedBathroom': False, 'occupancy': 'DOUBLE', 'amenitiesMap': {'AB': True, 'TV': False, 'AC': True, 'CUPBOARD': True, 'BEDDING': True, 'GEASER': True}, 'lastUpdateDate': '2022-09-09T23:18:33+05:30', 'deposit': 5000, 'active': True, 'rootObject': '8a9f968282e343680182e3a51c305746', 'entityId': '8a9fc88282e343780182e3a5741555b6', 'id': '8a9f968282e343680182e3a51c305746', 'rent': 5000}], [{'amenities': '{\"CUPBOARD\":false,\"TV\":false,\"BEDDING\":false,\"GEASER\":false,\"AC\":false,\"AB\":false}', 'attachedBathroom': False, 'occupancy': 'SINGLE', 'amenitiesMap': {'AB': False, 'TV': False, 'AC': False, 'CUPBOARD': False, 'BEDDING': False, 'GEASER': False}, 'lastUpdateDate': '2023-01-29T15:17:20+05:30', 'deposit': 2000, 'active': True, 'rootObject': '8a9fa88282fd62820182fdb5215b3706', 'entityId': '8a9fa88282fd62820182fdb5217e3708', 'id': '8a9fa88282fd62820182fdb5215b3706', 'rent': 11000}, {'amenities': '{\"CUPBOARD\":false,\"TV\":false,\"BEDDING\":false,\"GEASER\":false,\"AC\":false,\"AB\":false}', 'attachedBathroom': False, 'occupancy': 'DOUBLE', 'amenitiesMap': {'AB': False, 'TV': False, 'AC': False, 'CUPBOARD': False, 'BEDDING': False, 'GEASER': False}, 'lastUpdateDate': '2023-01-29T15:17:34+05:30', 'deposit': 2000, 'active': True, 'rootObject': '8a9fa88282fd62820182fdb5215b3706', 'entityId': '8a9fa88282fd62820182fdb521973709', 'id': '8a9fa88282fd62820182fdb5215b3706', 'rent': 7000}, {'amenities': '{\"CUPBOARD\":false,\"TV\":false,\"BEDDING\":false,\"GEASER\":false,\"AC\":false,\"AB\":false}', 'attachedBathroom': False, 'occupancy': 'THREE', 'amenitiesMap': {'AB': False, 'TV': False, 'AC': False, 'CUPBOARD': False, 'BEDDING': False, 'GEASER': False}, 'lastUpdateDate': '2023-01-29T15:17:36+05:30', 'deposit': 2000, 'active': True, 'rootObject': '8a9fa88282fd62820182fdb5215b3706', 'entityId': '8a9fa88282fd62820182fdb5219f370a', 'id': '8a9fa88282fd62820182fdb5215b3706', 'rent': 6500}]]\n",
      "\n",
      "Corrected List :\n",
      "[{'amenities': '{\"CUPBOARD\":true,\"TV\":false,\"BEDDING\":true,\"GEASER\":true,\"AC\":true,\"AB\":true}', 'attachedBathroom': False, 'occupancy': 'DOUBLE', 'amenitiesMap': {'AB': True, 'TV': False, 'AC': True, 'CUPBOARD': True, 'BEDDING': True, 'GEASER': True}, 'lastUpdateDate': '2022-09-09T23:18:33+05:30', 'deposit': 5000, 'active': True, 'rootObject': '8a9f968282e343680182e3a51c305746', 'entityId': '8a9fc88282e343780182e3a5741555b6', 'id': '8a9f968282e343680182e3a51c305746', 'rent': 5000}, {'amenities': '{\"CUPBOARD\":false,\"TV\":false,\"BEDDING\":false,\"GEASER\":false,\"AC\":false,\"AB\":false}', 'attachedBathroom': False, 'occupancy': 'SINGLE', 'amenitiesMap': {'AB': False, 'TV': False, 'AC': False, 'CUPBOARD': False, 'BEDDING': False, 'GEASER': False}, 'lastUpdateDate': '2023-01-29T15:17:20+05:30', 'deposit': 2000, 'active': True, 'rootObject': '8a9fa88282fd62820182fdb5215b3706', 'entityId': '8a9fa88282fd62820182fdb5217e3708', 'id': '8a9fa88282fd62820182fdb5215b3706', 'rent': 11000}]\n"
     ]
    }
   ],
   "source": [
    "#roomTypes is a list of lists of dictionaries as shown, so we first convert it to a list of dictionaries\n",
    "print(\"Initial list : \")\n",
    "print(roomTypes[:2])\n",
    "print()\n",
    "r_n = []\n",
    "for i in roomTypes:\n",
    "    for j in i:\n",
    "        r_n.append(j)\n",
    "print(\"Corrected List :\")\n",
    "print(r_n[:2])\n",
    "#We will store each feature indivisually inside a list\n",
    "amen_m = [] #the value for this is a dictionary, we will extract them later\n",
    "rent = []\n",
    "occupancy = []\n",
    "bathR = []\n",
    "for i in r_n:\n",
    "    if ('amenitiesMap' in i and 'rent' in i and 'occupancy' in i and 'attachedBathroom' in i ):\n",
    "        amen_m.append(i['amenitiesMap'])\n",
    "        rent.append(i['rent'])\n",
    "        occupancy.append(i['occupancy'])\n",
    "        bathR.append(i['attachedBathroom'])\n"
   ]
  },
  {
   "cell_type": "code",
   "execution_count": 6,
   "id": "5e4d5686",
   "metadata": {},
   "outputs": [
    {
     "name": "stdout",
     "output_type": "stream",
     "text": [
      "        AB     TV     AC CUPBOARD BEDDING GEASER\n",
      "0     True  False   True     True    True   True\n",
      "1    False  False  False    False   False  False\n",
      "2    False  False  False    False   False  False\n",
      "3    False  False  False    False   False  False\n",
      "4    False  False  False    False   False  False\n",
      "..     ...    ...    ...      ...     ...    ...\n",
      "389  False  False  False    False   False  False\n",
      "390  False  False  False    False   False  False\n",
      "391  False  False  False    False   False  False\n",
      "392  False  False  False    False   False  False\n",
      "393  False  False  False    False   False  False\n",
      "\n",
      "[394 rows x 6 columns]\n"
     ]
    }
   ],
   "source": [
    "#Extracting the values of amenitiesMap into a dataframe\n",
    "df_amenMap = pd.DataFrame.from_records(amen_m)\n",
    "print(df_amenMap)\n"
   ]
  },
  {
   "cell_type": "code",
   "execution_count": 7,
   "id": "70c76eb9",
   "metadata": {},
   "outputs": [
    {
     "name": "stdout",
     "output_type": "stream",
     "text": [
      "      Rent Occupancy  Attached BathRoom\n",
      "0     5000    DOUBLE              False\n",
      "1    11000    SINGLE              False\n",
      "2     7000    DOUBLE              False\n",
      "3     6500     THREE              False\n",
      "4    15000    SINGLE              False\n",
      "..     ...       ...                ...\n",
      "389  10800    SINGLE              False\n",
      "390   8500    DOUBLE              False\n",
      "391   7500     THREE              False\n",
      "392   8500    DOUBLE              False\n",
      "393   8500     THREE              False\n",
      "\n",
      "[394 rows x 3 columns]\n"
     ]
    }
   ],
   "source": [
    "#Creating dataframe out of indivisual lists\n",
    "df = pd.DataFrame({\n",
    "    \"Rent\" : rent,\n",
    "    \"Occupancy\" : occupancy,\n",
    "    \"Attached BathRoom\" : bathR\n",
    "})\n",
    "print(df)"
   ]
  },
  {
   "cell_type": "code",
   "execution_count": 8,
   "id": "439ce7d5",
   "metadata": {},
   "outputs": [
    {
     "name": "stdout",
     "output_type": "stream",
     "text": [
      "      Rent Occupancy  Attached BathRoom     AB     TV     AC CUPBOARD BEDDING  \\\n",
      "0     5000    DOUBLE              False   True  False   True     True    True   \n",
      "1    11000    SINGLE              False  False  False  False    False   False   \n",
      "2     7000    DOUBLE              False  False  False  False    False   False   \n",
      "3     6500     THREE              False  False  False  False    False   False   \n",
      "4    15000    SINGLE              False  False  False  False    False   False   \n",
      "..     ...       ...                ...    ...    ...    ...      ...     ...   \n",
      "389  10800    SINGLE              False  False  False  False    False   False   \n",
      "390   8500    DOUBLE              False  False  False  False    False   False   \n",
      "391   7500     THREE              False  False  False  False    False   False   \n",
      "392   8500    DOUBLE              False  False  False  False    False   False   \n",
      "393   8500     THREE              False  False  False  False    False   False   \n",
      "\n",
      "    GEASER  \n",
      "0     True  \n",
      "1    False  \n",
      "2    False  \n",
      "3    False  \n",
      "4    False  \n",
      "..     ...  \n",
      "389  False  \n",
      "390  False  \n",
      "391  False  \n",
      "392  False  \n",
      "393  False  \n",
      "\n",
      "[394 rows x 9 columns]\n"
     ]
    }
   ],
   "source": [
    "#Appending both dataframes\n",
    "collected_df=df.join(df_amenMap)\n",
    "print(collected_df)"
   ]
  },
  {
   "cell_type": "code",
   "execution_count": 9,
   "id": "91469d94",
   "metadata": {},
   "outputs": [],
   "source": [
    "collected_df.to_csv(\"rawdataset.csv\")"
   ]
  },
  {
   "cell_type": "code",
   "execution_count": null,
   "id": "d54fbd82",
   "metadata": {},
   "outputs": [],
   "source": []
  }
 ],
 "metadata": {
  "kernelspec": {
   "display_name": "Python 3 (ipykernel)",
   "language": "python",
   "name": "python3"
  },
  "language_info": {
   "codemirror_mode": {
    "name": "ipython",
    "version": 3
   },
   "file_extension": ".py",
   "mimetype": "text/x-python",
   "name": "python",
   "nbconvert_exporter": "python",
   "pygments_lexer": "ipython3",
   "version": "3.9.13"
  }
 },
 "nbformat": 4,
 "nbformat_minor": 5
}
